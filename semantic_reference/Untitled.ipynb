{
 "cells": [
  {
   "cell_type": "code",
   "execution_count": null,
   "metadata": {},
   "outputs": [
    {
     "name": "stdout",
     "output_type": "stream",
     "text": [
      "Collecting package metadata (repodata.json): done\n",
      "Solving environment: done\n",
      "\n",
      "## Package Plan ##\n",
      "\n",
      "  environment location: /home/spalab/anaconda3\n",
      "\n",
      "  added / updated specs:\n",
      "    - vispy\n",
      "\n",
      "\n",
      "The following packages will be downloaded:\n",
      "\n",
      "    package                    |            build\n",
      "    ---------------------------|-----------------\n",
      "    vispy-0.5.3                |   py37hee6b756_0         1.2 MB\n",
      "    ------------------------------------------------------------\n",
      "                                           Total:         1.2 MB\n",
      "\n",
      "The following NEW packages will be INSTALLED:\n",
      "\n",
      "  vispy              pkgs/main/linux-64::vispy-0.5.3-py37hee6b756_0\n",
      "\n",
      "\n",
      "Proceed ([y]/n)? "
     ]
    }
   ],
   "source": [
    "!conda install vispy"
   ]
  },
  {
   "cell_type": "code",
   "execution_count": null,
   "metadata": {},
   "outputs": [],
   "source": [
    "\"\"\" Demonstrates use of visual.Markers to create a point cloud with a\n",
    "standard turntable camera to fly around with and a centered 3D Axis.\n",
    "\"\"\"\n",
    "\n",
    "import numpy as np\n",
    "import vispy.scene\n",
    "from vispy.scene import visuals\n",
    "\n",
    "#\n",
    "# Make a canvas and add simple view\n",
    "#\n",
    "canvas = vispy.scene.SceneCanvas(keys='interactive', show=True)\n",
    "view = canvas.central_widget.add_view()\n",
    "\n",
    "\n",
    "# generate data\n",
    "pos = np.random.normal(size=(100000, 3), scale=0.2)\n",
    "# one could stop here for the data generation, the rest is just to make the\n",
    "# data look more interesting. Copied over from magnify.py\n",
    "centers = np.random.normal(size=(50, 3))\n",
    "indexes = np.random.normal(size=100000, loc=centers.shape[0]/2.,\n",
    "                           scale=centers.shape[0]/3.)\n",
    "indexes = np.clip(indexes, 0, centers.shape[0]-1).astype(int)\n",
    "scales = 10**(np.linspace(-2, 0.5, centers.shape[0]))[indexes][:, np.newaxis]\n",
    "pos *= scales\n",
    "pos += centers[indexes]\n",
    "\n",
    "# create scatter object and fill in the data\n",
    "scatter = visuals.Markers()\n",
    "scatter.set_data(pos, edge_color=None, face_color=(1, 1, 1, .5), size=5)\n",
    "\n",
    "view.add(scatter)\n",
    "\n",
    "view.camera = 'turntable'  # or try 'arcball'\n",
    "\n",
    "# add a colored 3D axis for orientation\n",
    "axis = visuals.XYZAxis(parent=view.scene)\n",
    "\n",
    "if __name__ == '__main__':\n",
    "    import sys\n",
    "    if sys.flags.interactive != 1:\n",
    "        vispy.app.run()"
   ]
  }
 ],
 "metadata": {
  "kernelspec": {
   "display_name": "Python 3",
   "language": "python",
   "name": "python3"
  },
  "language_info": {
   "codemirror_mode": {
    "name": "ipython",
    "version": 3
   },
   "file_extension": ".py",
   "mimetype": "text/x-python",
   "name": "python",
   "nbconvert_exporter": "python",
   "pygments_lexer": "ipython3",
   "version": "3.7.4"
  }
 },
 "nbformat": 4,
 "nbformat_minor": 2
}
