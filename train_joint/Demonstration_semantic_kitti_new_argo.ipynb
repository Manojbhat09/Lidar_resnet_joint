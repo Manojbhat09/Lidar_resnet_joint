{
 "cells": [
  {
   "cell_type": "code",
   "execution_count": 1,
   "metadata": {},
   "outputs": [],
   "source": [
    "from pyntcloud import PyntCloud\n",
    "import pyntcloud\n",
    "from pyntcloud.io import bin as io_bin\n",
    "import numpy as np\n",
    "import pandas as pd\n",
    "import os\n",
    "\n",
    "from pythreejs import *\n",
    "import numpy as np\n",
    "from IPython.display import display\n",
    "from ipywidgets import HTML, Text, Output, VBox\n",
    "from traitlets import link, dlink"
   ]
  },
  {
   "cell_type": "code",
   "execution_count": 2,
   "metadata": {},
   "outputs": [],
   "source": [
    "VELODYNE_HEIGHT = 1.73\n",
    "\n",
    "def extractBB(label,gt=True):\n",
    "    label_split = label.split(\" \")\n",
    "    if gt:\n",
    "        return label_split[0],float(label_split[-7]),float(label_split[-6]),float(label_split[-5]),float(label_split[-4]),float(label_split[-3]),float(label_split[-2]),float(label_split[-1])\n",
    "    else:\n",
    "        return label_split[0],float(label_split[-8]),float(label_split[-7]),float(label_split[-6]),float(label_split[-5]),float(label_split[-4]),float(label_split[-3]),float(label_split[-2])\n",
    "    \n",
    "def getCorners(height,width,length,x,y,z,θ,rotation=True):\n",
    "    \n",
    "    corners = np.array([[-length / 2, -length / 2, length / 2, length / 2, -length / 2, -length / 2, length / 2, length / 2],\n",
    "                        [width / 2, -width / 2, -width / 2, width / 2, width / 2, -width / 2, -width / 2, width / 2],\n",
    "                        [0, 0, 0, 0, height, height, height, height]])\n",
    "    \n",
    "    rotMat = np.array([[np.cos(θ) , -np.sin(θ) , 0],\n",
    "                       [np.sin(θ) ,  np.cos(θ) , 0],\n",
    "                       [    0     ,     0      , 1]])\n",
    "    if rotation:\n",
    "        cornersPos = (np.dot(rotMat,corners)+np.tile([x,y,z],(8,1)).T).transpose()\n",
    "        corner1,corner2,corner3,corner4,corner5,corner6,corner7,corner8 = cornersPos[0],cornersPos[1],cornersPos[2],cornersPos[3],cornersPos[4],cornersPos[5],cornersPos[6],cornersPos[7]\n",
    "    else:\n",
    "        cornersPos = (corners + np.tile([x,y,z],(8,1)).T).transpose()\n",
    "        corner1,corner2,corner3,corner4,corner5,corner6,corner7,corner8 = cornersPos[0],cornersPos[1],cornersPos[2],cornersPos[3],cornersPos[4],cornersPos[5],cornersPos[6],cornersPos[7]\n",
    "    \n",
    "    return list(corner1),list(corner2),list(corner3),list(corner4),list(corner5),list(corner6),list(corner7),list(corner8)\n",
    "\n",
    "def createBBox(bounding_box,C1,C2,C3,C4,C5,C6,C7,C8,color=\"yellow\"):\n",
    "    bounding_box.append(\n",
    "        {\n",
    "            \"color\":color,\n",
    "            \"vertices\":[C1,C2,C3,C4,C1]\n",
    "        })\n",
    "    bounding_box.append(\n",
    "        {\n",
    "            \"color\":color,\n",
    "            \"vertices\":[C1,C4,C8,C5,C1]\n",
    "        })\n",
    "    bounding_box.append(\n",
    "        {\n",
    "            \"color\":color,\n",
    "            \"vertices\":[C1,C2,C6,C5,C1]\n",
    "        })\n",
    "    bounding_box.append(\n",
    "        {\n",
    "            \"color\":color,\n",
    "            \"vertices\":[C2,C6,C7,C3,C2]\n",
    "        })\n",
    "    bounding_box.append(\n",
    "        {\n",
    "            \"color\":color,\n",
    "            \"vertices\":[C3,C7,C8,C4,C3]\n",
    "        })\n",
    "    return bounding_box\n",
    "\n",
    "def load_label(file_name, label_list, text):\n",
    "#     file_name = label_list[int(text)]\n",
    "    labels = np.fromfile(file_name, dtype=np.int32).reshape((-1))    \n",
    "    return labels\n",
    "\n",
    "def hsv2rgb(h,s,v):\n",
    "    import colorsys\n",
    "    return list(round(i * 255) for i in colorsys.hsv_to_rgb(h,s,v))\n",
    "        \n",
    "def hsbcolor(max_expected = 10, sat = 175, bri = 175):\n",
    "    hue_factor = 255 / max_expected\n",
    "    rgb_list = [hsv2rgb(((i*hue_factor)%255)/255, sat/255, bri/255) for i in range(max_expected)]\n",
    "    color_list = np.array(rgb_list, dtype=np.uint8)\n",
    "    return color_list\n",
    "     "
   ]
  },
  {
   "cell_type": "code",
   "execution_count": 3,
   "metadata": {},
   "outputs": [],
   "source": [
    "# red = np.array([255, 0, 0], dtype=np.uint8)\n",
    "# green = np.array([0, 255, 0], dtype=np.uint8)\n",
    "# blue = np.array([0, 0, 255], dtype=np.uint8)\n",
    "# list0fpointindex = np.arange(500).tolist()\n",
    "# classcolorlist = [green if i in list0fpointindex else red for i in range(len(new_pts))]"
   ]
  },
  {
   "cell_type": "code",
   "execution_count": 15,
   "metadata": {
    "scrolled": true
   },
   "outputs": [
    {
     "data": {
      "text/plain": [
       "array(['data/scene1/label\\\\000.label', 'data/scene1/label\\\\001.label',\n",
       "       'data/scene1/label\\\\002.label', 'data/scene1/label\\\\003.label',\n",
       "       'data/scene1/label\\\\004.label', 'data/scene1/label\\\\005.label',\n",
       "       'data/scene1/label\\\\006.label', 'data/scene1/label\\\\007.label',\n",
       "       'data/scene1/label\\\\008.label', 'data/scene1/label\\\\009.label',\n",
       "       'data/scene1/label\\\\010.label', 'data/scene1/label\\\\011.label',\n",
       "       'data/scene1/label\\\\012.label', 'data/scene1/label\\\\013.label',\n",
       "       'data/scene1/label\\\\014.label', 'data/scene1/label\\\\015.label',\n",
       "       'data/scene1/label\\\\016.label', 'data/scene1/label\\\\017.label',\n",
       "       'data/scene1/label\\\\018.label', 'data/scene1/label\\\\019.label',\n",
       "       'data/scene1/label\\\\020.label', 'data/scene1/label\\\\021.label',\n",
       "       'data/scene1/label\\\\022.label', 'data/scene1/label\\\\023.label',\n",
       "       'data/scene1/label\\\\024.label', 'data/scene1/label\\\\025.label',\n",
       "       'data/scene1/label\\\\026.label', 'data/scene1/label\\\\027.label',\n",
       "       'data/scene1/label\\\\028.label', 'data/scene1/label\\\\029.label',\n",
       "       'data/scene1/label\\\\030.label', 'data/scene1/label\\\\031.label',\n",
       "       'data/scene1/label\\\\032.label', 'data/scene1/label\\\\033.label',\n",
       "       'data/scene1/label\\\\034.label', 'data/scene1/label\\\\035.label',\n",
       "       'data/scene1/label\\\\036.label', 'data/scene1/label\\\\037.label',\n",
       "       'data/scene1/label\\\\038.label', 'data/scene1/label\\\\039.label',\n",
       "       'data/scene1/label\\\\040.label', 'data/scene1/label\\\\041.label',\n",
       "       'data/scene1/label\\\\042.label', 'data/scene1/label\\\\043.label',\n",
       "       'data/scene1/label\\\\044.label', 'data/scene1/label\\\\045.label',\n",
       "       'data/scene1/label\\\\046.label', 'data/scene1/label\\\\047.label',\n",
       "       'data/scene1/label\\\\048.label', 'data/scene1/label\\\\049.label',\n",
       "       'data/scene1/label\\\\050.label', 'data/scene1/label\\\\051.label',\n",
       "       'data/scene1/label\\\\052.label', 'data/scene1/label\\\\053.label',\n",
       "       'data/scene1/label\\\\054.label', 'data/scene1/label\\\\055.label',\n",
       "       'data/scene1/label\\\\056.label', 'data/scene1/label\\\\057.label',\n",
       "       'data/scene1/label\\\\058.label', 'data/scene1/label\\\\059.label',\n",
       "       'data/scene1/label\\\\060.label', 'data/scene1/label\\\\061.label',\n",
       "       'data/scene1/label\\\\062.label', 'data/scene1/label\\\\063.label',\n",
       "       'data/scene1/label\\\\064.label', 'data/scene1/label\\\\065.label',\n",
       "       'data/scene1/label\\\\066.label', 'data/scene1/label\\\\067.label',\n",
       "       'data/scene1/label\\\\068.label', 'data/scene1/label\\\\069.label',\n",
       "       'data/scene1/label\\\\070.label', 'data/scene1/label\\\\071.label',\n",
       "       'data/scene1/label\\\\072.label', 'data/scene1/label\\\\073.label',\n",
       "       'data/scene1/label\\\\074.label', 'data/scene1/label\\\\075.label',\n",
       "       'data/scene1/label\\\\076.label', 'data/scene1/label\\\\077.label',\n",
       "       'data/scene1/label\\\\078.label', 'data/scene1/label\\\\079.label',\n",
       "       'data/scene1/label\\\\080.label', 'data/scene1/label\\\\081.label',\n",
       "       'data/scene1/label\\\\082.label', 'data/scene1/label\\\\083.label',\n",
       "       'data/scene1/label\\\\084.label', 'data/scene1/label\\\\085.label',\n",
       "       'data/scene1/label\\\\086.label', 'data/scene1/label\\\\087.label',\n",
       "       'data/scene1/label\\\\088.label', 'data/scene1/label\\\\089.label',\n",
       "       'data/scene1/label\\\\090.label', 'data/scene1/label\\\\091.label',\n",
       "       'data/scene1/label\\\\092.label', 'data/scene1/label\\\\093.label',\n",
       "       'data/scene1/label\\\\094.label', 'data/scene1/label\\\\095.label',\n",
       "       'data/scene1/label\\\\096.label', 'data/scene1/label\\\\097.label',\n",
       "       'data/scene1/label\\\\098.label', 'data/scene1/label\\\\099.label',\n",
       "       'data/scene1/label\\\\100.label', 'data/scene1/label\\\\101.label',\n",
       "       'data/scene1/label\\\\102.label', 'data/scene1/label\\\\103.label',\n",
       "       'data/scene1/label\\\\104.label', 'data/scene1/label\\\\105.label',\n",
       "       'data/scene1/label\\\\106.label', 'data/scene1/label\\\\107.label',\n",
       "       'data/scene1/label\\\\108.label', 'data/scene1/label\\\\109.label',\n",
       "       'data/scene1/label\\\\110.label', 'data/scene1/label\\\\111.label',\n",
       "       'data/scene1/label\\\\112.label', 'data/scene1/label\\\\113.label',\n",
       "       'data/scene1/label\\\\114.label', 'data/scene1/label\\\\115.label',\n",
       "       'data/scene1/label\\\\116.label', 'data/scene1/label\\\\117.label',\n",
       "       'data/scene1/label\\\\118.label', 'data/scene1/label\\\\119.label',\n",
       "       'data/scene1/label\\\\120.label', 'data/scene1/label\\\\121.label',\n",
       "       'data/scene1/label\\\\122.label', 'data/scene1/label\\\\123.label',\n",
       "       'data/scene1/label\\\\124.label', 'data/scene1/label\\\\125.label',\n",
       "       'data/scene1/label\\\\126.label', 'data/scene1/label\\\\127.label',\n",
       "       'data/scene1/label\\\\128.label', 'data/scene1/label\\\\129.label',\n",
       "       'data/scene1/label\\\\130.label', 'data/scene1/label\\\\131.label',\n",
       "       'data/scene1/label\\\\132.label', 'data/scene1/label\\\\133.label',\n",
       "       'data/scene1/label\\\\134.label', 'data/scene1/label\\\\135.label',\n",
       "       'data/scene1/label\\\\136.label', 'data/scene1/label\\\\137.label',\n",
       "       'data/scene1/label\\\\138.label', 'data/scene1/label\\\\139.label',\n",
       "       'data/scene1/label\\\\140.label', 'data/scene1/label\\\\141.label',\n",
       "       'data/scene1/label\\\\142.label', 'data/scene1/label\\\\143.label',\n",
       "       'data/scene1/label\\\\144.label', 'data/scene1/label\\\\145.label',\n",
       "       'data/scene1/label\\\\146.label', 'data/scene1/label\\\\147.label',\n",
       "       'data/scene1/label\\\\148.label', 'data/scene1/label\\\\149.label',\n",
       "       'data/scene1/label\\\\150.label', 'data/scene1/label\\\\151.label',\n",
       "       'data/scene1/label\\\\152.label', 'data/scene1/label\\\\153.label',\n",
       "       'data/scene1/label\\\\154.label', 'data/scene1/label\\\\155.label',\n",
       "       'data/scene1/label\\\\156.label'], dtype='<U27')"
      ]
     },
     "execution_count": 15,
     "metadata": {},
     "output_type": "execute_result"
    }
   ],
   "source": [
    "import glob \n",
    "label_list = np.sort(glob.glob(\"data/scene1/label/*.label\"))\n",
    "pc_list = np.sort(glob.glob(\"data/scene1/lidar/*.ply\"))\n",
    "label_list"
   ]
  },
  {
   "cell_type": "code",
   "execution_count": 6,
   "metadata": {},
   "outputs": [
    {
     "data": {
      "text/plain": [
       "86185"
      ]
     },
     "execution_count": 6,
     "metadata": {},
     "output_type": "execute_result"
    }
   ],
   "source": [
    "path= label_list[0]\n",
    "#np.load(path, allow_pickle=True)\n",
    "labels = np.fromfile(path, dtype=np.uint32).reshape(-1)\n",
    "len(labels)"
   ]
  },
  {
   "cell_type": "code",
   "execution_count": 12,
   "metadata": {},
   "outputs": [
    {
     "data": {
      "text/plain": [
       "array([18, 18, 18, ..., 17, 18, 18], dtype=uint32)"
      ]
     },
     "execution_count": 12,
     "metadata": {},
     "output_type": "execute_result"
    }
   ],
   "source": [
    "labels"
   ]
  },
  {
   "cell_type": "code",
   "execution_count": 8,
   "metadata": {},
   "outputs": [
    {
     "data": {
      "text/plain": [
       "(86185, 3)"
      ]
     },
     "execution_count": 8,
     "metadata": {},
     "output_type": "execute_result"
    }
   ],
   "source": [
    "path= pc_list[0]\n",
    "points  = PyntCloud.from_file(path)\n",
    "points.xyz.shape"
   ]
  },
  {
   "cell_type": "code",
   "execution_count": 9,
   "metadata": {},
   "outputs": [
    {
     "data": {
      "application/vnd.jupyter.widget-view+json": {
       "model_id": "e3d7dd96678544d4a86e8c42679305d5",
       "version_major": 2,
       "version_minor": 0
      },
      "text/plain": [
       "Renderer(camera=PerspectiveCamera(aspect=1.6, fov=90.0, position=(1.4262765645980835, 116.16038227081299, 59.3…"
      ]
     },
     "metadata": {},
     "output_type": "display_data"
    },
    {
     "data": {
      "application/vnd.jupyter.widget-view+json": {
       "model_id": "d61adfea5b3a405082a7016b6bf679de",
       "version_major": 2,
       "version_minor": 0
      },
      "text/plain": [
       "HBox(children=(Label(value='Point size:'), FloatSlider(value=0.02, max=0.2, step=0.0002), Label(value='Backgro…"
      ]
     },
     "metadata": {},
     "output_type": "display_data"
    }
   ],
   "source": [
    "new_pts = pd.DataFrame(points.xyz[:, 0:3], columns=['x', 'y', 'z'])\n",
    "cloud = PyntCloud(new_pts)\n",
    "cloud.plot(initial_point_size=0.02)"
   ]
  },
  {
   "cell_type": "code",
   "execution_count": 10,
   "metadata": {},
   "outputs": [],
   "source": [
    "# Make seperate colors for segmentations\n",
    "new_pts = pd.DataFrame(points.xyz[:, 0:3], columns=['x', 'y', 'z'])\n",
    "list0fpointindex = np.fromfile(path, dtype=np.uint32).reshape(-1)\n",
    "N = len(np.unique(list0fpointindex)) # Number of segmentation classes\n",
    "colorlist = hsbcolor(N) # Color list\n",
    "labelcolordict = {each:id for id,each in enumerate(np.unique(list0fpointindex))}\n",
    "classcolorlist = [colorlist[labelcolordict[each]] for each in list0fpointindex[0:len(new_pts)]]"
   ]
  },
  {
   "cell_type": "code",
   "execution_count": 11,
   "metadata": {
    "scrolled": false
   },
   "outputs": [
    {
     "data": {
      "application/vnd.jupyter.widget-view+json": {
       "model_id": "db9e02fcd11f40b1a6495c5073c94bc2",
       "version_major": 2,
       "version_minor": 0
      },
      "text/plain": [
       "Renderer(camera=PerspectiveCamera(aspect=1.6, fov=90.0, position=(1.4262765645980835, 116.16038227081299, 59.3…"
      ]
     },
     "metadata": {},
     "output_type": "display_data"
    },
    {
     "data": {
      "application/vnd.jupyter.widget-view+json": {
       "model_id": "91757b616e5f4a3b98704d052e3e82c3",
       "version_major": 2,
       "version_minor": 0
      },
      "text/plain": [
       "HBox(children=(Label(value='Point size:'), FloatSlider(value=0.02, max=0.2, step=0.0002), Label(value='Backgro…"
      ]
     },
     "metadata": {},
     "output_type": "display_data"
    }
   ],
   "source": [
    "# Vizualize pointcloud with intensity\n",
    "new_pts[\"red\"]  = 0\n",
    "new_pts[\"green\"]  = 0\n",
    "new_pts[\"blue\"]  = 0\n",
    "new_pts[[\"red\",\"green\", \"blue\"]] = classcolorlist\n",
    "# new_pts.loc[list0fpointindex,[\"red\",\"green\", \"blue\"]] = blue\n",
    "cloud = PyntCloud(new_pts)\n",
    "cloud.plot(initial_point_size=0.02)"
   ]
  },
  {
   "cell_type": "code",
   "execution_count": 14,
   "metadata": {},
   "outputs": [
    {
     "ename": "ValueError",
     "evalue": "cannot reshape array of size 323237 into shape (3)",
     "output_type": "error",
     "traceback": [
      "\u001b[1;31m---------------------------------------------------------------------------\u001b[0m",
      "\u001b[1;31mValueError\u001b[0m                                Traceback (most recent call last)",
      "\u001b[1;32m<ipython-input-14-674f36dae68a>\u001b[0m in \u001b[0;36m<module>\u001b[1;34m\u001b[0m\n\u001b[0;32m      1\u001b[0m \u001b[0mnew_points\u001b[0m \u001b[1;33m=\u001b[0m \u001b[0mnp\u001b[0m\u001b[1;33m.\u001b[0m\u001b[0mfromfile\u001b[0m\u001b[1;33m(\u001b[0m\u001b[0mpath\u001b[0m\u001b[1;33m,\u001b[0m \u001b[0mdtype\u001b[0m\u001b[1;33m=\u001b[0m\u001b[0mnp\u001b[0m\u001b[1;33m.\u001b[0m\u001b[0mfloat32\u001b[0m\u001b[1;33m)\u001b[0m\u001b[1;33m\u001b[0m\u001b[1;33m\u001b[0m\u001b[0m\n\u001b[1;32m----> 2\u001b[1;33m \u001b[0mnew_points\u001b[0m \u001b[1;33m=\u001b[0m \u001b[0mnew_points\u001b[0m\u001b[1;33m.\u001b[0m\u001b[0mreshape\u001b[0m\u001b[1;33m(\u001b[0m\u001b[1;33m(\u001b[0m\u001b[1;33m-\u001b[0m\u001b[1;36m1\u001b[0m\u001b[1;33m,\u001b[0m \u001b[1;36m3\u001b[0m\u001b[1;33m)\u001b[0m\u001b[1;33m)\u001b[0m\u001b[1;33m\u001b[0m\u001b[1;33m\u001b[0m\u001b[0m\n\u001b[0m\u001b[0;32m      3\u001b[0m \u001b[0mnew_points\u001b[0m \u001b[1;33m=\u001b[0m \u001b[0mnew_points\u001b[0m\u001b[1;33m[\u001b[0m\u001b[1;33m:\u001b[0m\u001b[1;33m,\u001b[0m \u001b[1;33m:\u001b[0m\u001b[1;36m3\u001b[0m\u001b[1;33m]\u001b[0m\u001b[1;33m\u001b[0m\u001b[1;33m\u001b[0m\u001b[0m\n\u001b[0;32m      4\u001b[0m \u001b[1;33m\u001b[0m\u001b[0m\n\u001b[0;32m      5\u001b[0m \u001b[0mnew_pts\u001b[0m \u001b[1;33m=\u001b[0m \u001b[0mpd\u001b[0m\u001b[1;33m.\u001b[0m\u001b[0mDataFrame\u001b[0m\u001b[1;33m(\u001b[0m\u001b[0mnew_points\u001b[0m\u001b[1;33m[\u001b[0m\u001b[1;33m:\u001b[0m\u001b[1;33m,\u001b[0m \u001b[1;36m0\u001b[0m\u001b[1;33m:\u001b[0m\u001b[1;36m3\u001b[0m\u001b[1;33m]\u001b[0m\u001b[1;33m,\u001b[0m \u001b[0mcolumns\u001b[0m\u001b[1;33m=\u001b[0m\u001b[1;33m[\u001b[0m\u001b[1;34m'x'\u001b[0m\u001b[1;33m,\u001b[0m \u001b[1;34m'y'\u001b[0m\u001b[1;33m,\u001b[0m \u001b[1;34m'z'\u001b[0m\u001b[1;33m]\u001b[0m\u001b[1;33m)\u001b[0m\u001b[1;33m\u001b[0m\u001b[1;33m\u001b[0m\u001b[0m\n",
      "\u001b[1;31mValueError\u001b[0m: cannot reshape array of size 323237 into shape (3)"
     ]
    }
   ],
   "source": [
    "new_points = np.fromfile(path, dtype=np.float32)\n",
    "new_points = new_points.reshape((-1, 3))\n",
    "new_points = new_points[:, :3]\n",
    "\n",
    "new_pts = pd.DataFrame(new_points[:, 0:3], columns=['x', 'y', 'z'])\n",
    "cloud = PyntCloud(new_pts)\n",
    "cloud.plot(initial_point_size=0.02)"
   ]
  }
 ],
 "metadata": {
  "kernelspec": {
   "display_name": "Python 3",
   "language": "python",
   "name": "python3"
  },
  "language_info": {
   "codemirror_mode": {
    "name": "ipython",
    "version": 3
   },
   "file_extension": ".py",
   "mimetype": "text/x-python",
   "name": "python",
   "nbconvert_exporter": "python",
   "pygments_lexer": "ipython3",
   "version": "3.7.1"
  }
 },
 "nbformat": 4,
 "nbformat_minor": 2
}
